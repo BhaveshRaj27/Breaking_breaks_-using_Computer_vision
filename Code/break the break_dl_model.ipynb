{
 "cells": [
  {
   "cell_type": "code",
   "execution_count": 3,
   "metadata": {},
   "outputs": [],
   "source": [
    "import keras\n",
    "import tensorflow as tf\n",
    "import numpy as np\n",
    "import pyautogui as p"
   ]
  },
  {
   "cell_type": "code",
   "execution_count": null,
   "metadata": {},
   "outputs": [],
   "source": []
  },
  {
   "cell_type": "code",
   "execution_count": 4,
   "metadata": {},
   "outputs": [],
   "source": [
    "model=keras.models.load_model('H:/Gamedata/fashion_model_23.h5')"
   ]
  },
  {
   "cell_type": "code",
   "execution_count": 7,
   "metadata": {},
   "outputs": [],
   "source": [
    "import cv2\n",
    "import numpy as np\n",
    "def empty_function():\n",
    "    pass\n",
    "cap = cv2.VideoCapture(0)\n",
    "while True :\n",
    "    if cap.isOpened():\n",
    "        ret,frame = cap.read()\n",
    "        \n",
    "    frame=cv2.cvtColor(frame, cv2.COLOR_BGR2RGB)\n",
    "    img=cv2.resize(frame,(300,300))#\n",
    "    #print(img.shape)\n",
    "    ans=model.predict(np.array([img]))\n",
    "    if ans[0][0]>=ans[0][1]:\n",
    "        p.press('left')\n",
    "    else:\n",
    "        p.press('right')\n",
    "    cv2.imshow('img',img)\n",
    "    if cv2.waitKey(1)==27:\n",
    "        break\n",
    "cap.release() \n",
    "cv2.destroyAllWindows() \n",
    "   "
   ]
  }
 ],
 "metadata": {
  "kernelspec": {
   "display_name": "Python 3",
   "language": "python",
   "name": "python3"
  },
  "language_info": {
   "codemirror_mode": {
    "name": "ipython",
    "version": 3
   },
   "file_extension": ".py",
   "mimetype": "text/x-python",
   "name": "python",
   "nbconvert_exporter": "python",
   "pygments_lexer": "ipython3",
   "version": "3.7.1"
  }
 },
 "nbformat": 4,
 "nbformat_minor": 2
}
